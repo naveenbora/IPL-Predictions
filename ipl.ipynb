{
 "cells": [
  {
   "cell_type": "code",
   "execution_count": 1,
   "metadata": {},
   "outputs": [],
   "source": [
    "import pandas as pd\n",
    "import numpy as np\n",
    "import matplotlib.pyplot as plt\n",
    "import seaborn as sns\n",
    "import missingno as ms\n",
    "%matplotlib inline"
   ]
  },
  {
   "cell_type": "code",
   "execution_count": 2,
   "metadata": {},
   "outputs": [],
   "source": [
    "deliveries=pd.read_csv('deliveries.csv')\n",
    "matches=pd.read_csv('matches.csv')"
   ]
  },
  {
   "cell_type": "code",
   "execution_count": 3,
   "metadata": {},
   "outputs": [
    {
     "data": {
      "text/html": [
       "<div>\n",
       "<style scoped>\n",
       "    .dataframe tbody tr th:only-of-type {\n",
       "        vertical-align: middle;\n",
       "    }\n",
       "\n",
       "    .dataframe tbody tr th {\n",
       "        vertical-align: top;\n",
       "    }\n",
       "\n",
       "    .dataframe thead th {\n",
       "        text-align: right;\n",
       "    }\n",
       "</style>\n",
       "<table border=\"1\" class=\"dataframe\">\n",
       "  <thead>\n",
       "    <tr style=\"text-align: right;\">\n",
       "      <th></th>\n",
       "      <th>match_id</th>\n",
       "      <th>inning</th>\n",
       "      <th>batting_team</th>\n",
       "      <th>bowling_team</th>\n",
       "      <th>over</th>\n",
       "      <th>ball</th>\n",
       "      <th>batsman</th>\n",
       "      <th>non_striker</th>\n",
       "      <th>bowler</th>\n",
       "      <th>is_super_over</th>\n",
       "      <th>...</th>\n",
       "      <th>bye_runs</th>\n",
       "      <th>legbye_runs</th>\n",
       "      <th>noball_runs</th>\n",
       "      <th>penalty_runs</th>\n",
       "      <th>batsman_runs</th>\n",
       "      <th>extra_runs</th>\n",
       "      <th>total_runs</th>\n",
       "      <th>player_dismissed</th>\n",
       "      <th>dismissal_kind</th>\n",
       "      <th>fielder</th>\n",
       "    </tr>\n",
       "  </thead>\n",
       "  <tbody>\n",
       "    <tr>\n",
       "      <th>0</th>\n",
       "      <td>1</td>\n",
       "      <td>1</td>\n",
       "      <td>Sunrisers Hyderabad</td>\n",
       "      <td>Royal Challengers Bangalore</td>\n",
       "      <td>1</td>\n",
       "      <td>1</td>\n",
       "      <td>DA Warner</td>\n",
       "      <td>S Dhawan</td>\n",
       "      <td>TS Mills</td>\n",
       "      <td>0</td>\n",
       "      <td>...</td>\n",
       "      <td>0</td>\n",
       "      <td>0</td>\n",
       "      <td>0</td>\n",
       "      <td>0</td>\n",
       "      <td>0</td>\n",
       "      <td>0</td>\n",
       "      <td>0</td>\n",
       "      <td>NaN</td>\n",
       "      <td>NaN</td>\n",
       "      <td>NaN</td>\n",
       "    </tr>\n",
       "    <tr>\n",
       "      <th>1</th>\n",
       "      <td>1</td>\n",
       "      <td>1</td>\n",
       "      <td>Sunrisers Hyderabad</td>\n",
       "      <td>Royal Challengers Bangalore</td>\n",
       "      <td>1</td>\n",
       "      <td>2</td>\n",
       "      <td>DA Warner</td>\n",
       "      <td>S Dhawan</td>\n",
       "      <td>TS Mills</td>\n",
       "      <td>0</td>\n",
       "      <td>...</td>\n",
       "      <td>0</td>\n",
       "      <td>0</td>\n",
       "      <td>0</td>\n",
       "      <td>0</td>\n",
       "      <td>0</td>\n",
       "      <td>0</td>\n",
       "      <td>0</td>\n",
       "      <td>NaN</td>\n",
       "      <td>NaN</td>\n",
       "      <td>NaN</td>\n",
       "    </tr>\n",
       "    <tr>\n",
       "      <th>2</th>\n",
       "      <td>1</td>\n",
       "      <td>1</td>\n",
       "      <td>Sunrisers Hyderabad</td>\n",
       "      <td>Royal Challengers Bangalore</td>\n",
       "      <td>1</td>\n",
       "      <td>3</td>\n",
       "      <td>DA Warner</td>\n",
       "      <td>S Dhawan</td>\n",
       "      <td>TS Mills</td>\n",
       "      <td>0</td>\n",
       "      <td>...</td>\n",
       "      <td>0</td>\n",
       "      <td>0</td>\n",
       "      <td>0</td>\n",
       "      <td>0</td>\n",
       "      <td>4</td>\n",
       "      <td>0</td>\n",
       "      <td>4</td>\n",
       "      <td>NaN</td>\n",
       "      <td>NaN</td>\n",
       "      <td>NaN</td>\n",
       "    </tr>\n",
       "    <tr>\n",
       "      <th>3</th>\n",
       "      <td>1</td>\n",
       "      <td>1</td>\n",
       "      <td>Sunrisers Hyderabad</td>\n",
       "      <td>Royal Challengers Bangalore</td>\n",
       "      <td>1</td>\n",
       "      <td>4</td>\n",
       "      <td>DA Warner</td>\n",
       "      <td>S Dhawan</td>\n",
       "      <td>TS Mills</td>\n",
       "      <td>0</td>\n",
       "      <td>...</td>\n",
       "      <td>0</td>\n",
       "      <td>0</td>\n",
       "      <td>0</td>\n",
       "      <td>0</td>\n",
       "      <td>0</td>\n",
       "      <td>0</td>\n",
       "      <td>0</td>\n",
       "      <td>NaN</td>\n",
       "      <td>NaN</td>\n",
       "      <td>NaN</td>\n",
       "    </tr>\n",
       "    <tr>\n",
       "      <th>4</th>\n",
       "      <td>1</td>\n",
       "      <td>1</td>\n",
       "      <td>Sunrisers Hyderabad</td>\n",
       "      <td>Royal Challengers Bangalore</td>\n",
       "      <td>1</td>\n",
       "      <td>5</td>\n",
       "      <td>DA Warner</td>\n",
       "      <td>S Dhawan</td>\n",
       "      <td>TS Mills</td>\n",
       "      <td>0</td>\n",
       "      <td>...</td>\n",
       "      <td>0</td>\n",
       "      <td>0</td>\n",
       "      <td>0</td>\n",
       "      <td>0</td>\n",
       "      <td>0</td>\n",
       "      <td>2</td>\n",
       "      <td>2</td>\n",
       "      <td>NaN</td>\n",
       "      <td>NaN</td>\n",
       "      <td>NaN</td>\n",
       "    </tr>\n",
       "  </tbody>\n",
       "</table>\n",
       "<p>5 rows × 21 columns</p>\n",
       "</div>"
      ],
      "text/plain": [
       "   match_id  inning         batting_team                 bowling_team  over  \\\n",
       "0         1       1  Sunrisers Hyderabad  Royal Challengers Bangalore     1   \n",
       "1         1       1  Sunrisers Hyderabad  Royal Challengers Bangalore     1   \n",
       "2         1       1  Sunrisers Hyderabad  Royal Challengers Bangalore     1   \n",
       "3         1       1  Sunrisers Hyderabad  Royal Challengers Bangalore     1   \n",
       "4         1       1  Sunrisers Hyderabad  Royal Challengers Bangalore     1   \n",
       "\n",
       "   ball    batsman non_striker    bowler  is_super_over   ...    bye_runs  \\\n",
       "0     1  DA Warner    S Dhawan  TS Mills              0   ...           0   \n",
       "1     2  DA Warner    S Dhawan  TS Mills              0   ...           0   \n",
       "2     3  DA Warner    S Dhawan  TS Mills              0   ...           0   \n",
       "3     4  DA Warner    S Dhawan  TS Mills              0   ...           0   \n",
       "4     5  DA Warner    S Dhawan  TS Mills              0   ...           0   \n",
       "\n",
       "   legbye_runs  noball_runs  penalty_runs  batsman_runs  extra_runs  \\\n",
       "0            0            0             0             0           0   \n",
       "1            0            0             0             0           0   \n",
       "2            0            0             0             4           0   \n",
       "3            0            0             0             0           0   \n",
       "4            0            0             0             0           2   \n",
       "\n",
       "   total_runs  player_dismissed dismissal_kind fielder  \n",
       "0           0               NaN            NaN     NaN  \n",
       "1           0               NaN            NaN     NaN  \n",
       "2           4               NaN            NaN     NaN  \n",
       "3           0               NaN            NaN     NaN  \n",
       "4           2               NaN            NaN     NaN  \n",
       "\n",
       "[5 rows x 21 columns]"
      ]
     },
     "execution_count": 3,
     "metadata": {},
     "output_type": "execute_result"
    }
   ],
   "source": [
    "deliveries.head()"
   ]
  },
  {
   "cell_type": "code",
   "execution_count": 4,
   "metadata": {},
   "outputs": [],
   "source": [
    "matches.sort_values(['season','id'],inplace=True)"
   ]
  },
  {
   "cell_type": "code",
   "execution_count": 5,
   "metadata": {},
   "outputs": [],
   "source": [
    "ret=deliveries.groupby(['match_id','inning','over']).sum()[['total_runs']]"
   ]
  },
  {
   "cell_type": "code",
   "execution_count": 10,
   "metadata": {},
   "outputs": [
    {
     "data": {
      "text/plain": [
       "date        team1                        team2                      \n",
       "2008-04-18  Kolkata Knight Riders        Royal Challengers Bangalore    1\n",
       "2008-04-19  Chennai Super Kings          Kings XI Punjab                1\n",
       "            Rajasthan Royals             Delhi Daredevils               1\n",
       "2008-04-20  Deccan Chargers              Kolkata Knight Riders          1\n",
       "            Mumbai Indians               Royal Challengers Bangalore    1\n",
       "2008-04-21  Kings XI Punjab              Rajasthan Royals               1\n",
       "2008-04-22  Deccan Chargers              Delhi Daredevils               1\n",
       "2008-04-23  Chennai Super Kings          Mumbai Indians                 1\n",
       "2008-04-24  Deccan Chargers              Rajasthan Royals               1\n",
       "2008-04-25  Kings XI Punjab              Mumbai Indians                 1\n",
       "2008-04-26  Kolkata Knight Riders        Chennai Super Kings            1\n",
       "            Royal Challengers Bangalore  Rajasthan Royals               1\n",
       "2008-04-27  Delhi Daredevils             Kings XI Punjab                1\n",
       "            Mumbai Indians               Deccan Chargers                1\n",
       "2008-04-28  Chennai Super Kings          Royal Challengers Bangalore    1\n",
       "2008-04-29  Kolkata Knight Riders        Mumbai Indians                 1\n",
       "2008-04-30  Delhi Daredevils             Royal Challengers Bangalore    1\n",
       "2008-05-01  Deccan Chargers              Kings XI Punjab                1\n",
       "            Rajasthan Royals             Kolkata Knight Riders          1\n",
       "2008-05-02  Chennai Super Kings          Delhi Daredevils               1\n",
       "2008-05-03  Kings XI Punjab              Kolkata Knight Riders          1\n",
       "            Royal Challengers Bangalore  Deccan Chargers                1\n",
       "2008-05-04  Chennai Super Kings          Rajasthan Royals               1\n",
       "            Mumbai Indians               Delhi Daredevils               1\n",
       "2008-05-05  Royal Challengers Bangalore  Kings XI Punjab                1\n",
       "2008-05-06  Chennai Super Kings          Deccan Chargers                1\n",
       "2008-05-07  Rajasthan Royals             Mumbai Indians                 1\n",
       "2008-05-08  Delhi Daredevils             Chennai Super Kings            1\n",
       "            Kolkata Knight Riders        Royal Challengers Bangalore    1\n",
       "2008-05-09  Deccan Chargers              Rajasthan Royals               1\n",
       "                                                                       ..\n",
       "2017-04-27  Royal Challengers Bangalore  Gujarat Lions                  1\n",
       "2017-04-28  Delhi Daredevils             Kolkata Knight Riders          1\n",
       "            Sunrisers Hyderabad          Kings XI Punjab                1\n",
       "2017-04-29  Gujarat Lions                Mumbai Indians                 1\n",
       "            Rising Pune Supergiant       Royal Challengers Bangalore    1\n",
       "2017-04-30  Delhi Daredevils             Kings XI Punjab                1\n",
       "            Sunrisers Hyderabad          Kolkata Knight Riders          1\n",
       "2017-05-01  Gujarat Lions                Rising Pune Supergiant         1\n",
       "            Royal Challengers Bangalore  Mumbai Indians                 1\n",
       "2017-05-02  Sunrisers Hyderabad          Delhi Daredevils               1\n",
       "2017-05-03  Kolkata Knight Riders        Rising Pune Supergiant         1\n",
       "2017-05-04  Gujarat Lions                Delhi Daredevils               1\n",
       "2017-05-05  Kings XI Punjab              Royal Challengers Bangalore    1\n",
       "2017-05-06  Mumbai Indians               Delhi Daredevils               1\n",
       "            Rising Pune Supergiant       Sunrisers Hyderabad            1\n",
       "2017-05-07  Kings XI Punjab              Gujarat Lions                  1\n",
       "            Royal Challengers Bangalore  Kolkata Knight Riders          1\n",
       "2017-05-08  Mumbai Indians               Sunrisers Hyderabad            1\n",
       "2017-05-09  Kings XI Punjab              Kolkata Knight Riders          1\n",
       "2017-05-10  Gujarat Lions                Delhi Daredevils               1\n",
       "2017-05-11  Kings XI Punjab              Mumbai Indians                 1\n",
       "2017-05-12  Delhi Daredevils             Rising Pune Supergiant         1\n",
       "2017-05-13  Gujarat Lions                Sunrisers Hyderabad            1\n",
       "            Mumbai Indians               Kolkata Knight Riders          1\n",
       "2017-05-14  Kings XI Punjab              Rising Pune Supergiant         1\n",
       "            Royal Challengers Bangalore  Delhi Daredevils               1\n",
       "2017-05-16  Rising Pune Supergiant       Mumbai Indians                 1\n",
       "2017-05-17  Sunrisers Hyderabad          Kolkata Knight Riders          1\n",
       "2017-05-19  Kolkata Knight Riders        Mumbai Indians                 1\n",
       "2017-05-21  Mumbai Indians               Rising Pune Supergiant         1\n",
       "Length: 636, dtype: int64"
      ]
     },
     "execution_count": 10,
     "metadata": {},
     "output_type": "execute_result"
    }
   ],
   "source": [
    "matches.groupby(['date','team1','team2']).size()"
   ]
  },
  {
   "cell_type": "code",
   "execution_count": null,
   "metadata": {},
   "outputs": [],
   "source": [
    ".x, y = 2008, 2017\n",
    "while x < y:\n",
    "    wins_percity = matches[matches['season'] == x].groupby(['winner', 'city'])['id'].count().unstack()\n",
    "    plot = wins_percity.plot(kind='bar', stacked=True, title=\"Team wins in different cities\\nSeason \"+str(x), figsize=(7, 5))\n",
    "    sns.set_palette(\"Paired\", len(matches['city'].unique()))\n",
    "    plot.set_xlabel(\"Teams\")\n",
    "    plot.set_ylabel(\"No of wins\")\n",
    "    plot.legend(loc='best', prop={'size':8})\n",
    "    x+=1"
   ]
  },
  {
   "cell_type": "code",
   "execution_count": null,
   "metadata": {},
   "outputs": [],
   "source": [
    "cities={'Sunrisers Hyderabad':['Hyderabad'],'Mumbai Indians':['Mumbai'],'Gujarat Lions':['Rajkot','Kanpur'],'Rising Pune Supergiants':['Pune'],'Royal Challengers Bangalore':['Bangalore'],'Kolkata Knight Riders':['Kolkata'],'Delhi Daredevils':['Delhi'],\n",
    " 'Kings XI Punjab':['Indore','Chandigarh','Dharamsala'],'Chennai Super Kings':['Chennai','Ranchi'],'Rajasthan Royals':['Jaipur','Ahmedabad'],'Deccan Chargers':['Hyderabad','Nagpur'],'Kochi Tuskers Kerala':['Kochi'],'Pune Warriors':['Pune']}"
   ]
  },
  {
   "cell_type": "code",
   "execution_count": null,
   "metadata": {},
   "outputs": [],
   "source": [
    "def changeName(cols):\n",
    "    if cols=='Rising Pune Supergiant':\n",
    "        return 'Rising Pune Supergiants'\n",
    "    \n",
    "    else:\n",
    "        \n",
    "        return cols\n",
    "\n",
    "matches['team1']=matches['team1'].apply(changeName)\n",
    "matches['team2']=matches['team2'].apply(changeName)\n",
    "matches['toss_winner']=matches['toss_winner'].apply(changeName)\n",
    "matches['winner']=matches['winner'].apply(changeName)"
   ]
  },
  {
   "cell_type": "code",
   "execution_count": null,
   "metadata": {},
   "outputs": [],
   "source": [
    "def isHomeGround(cols):\n",
    "    #df[['team1_is_home','team2_is_home']]=np.NaN\n",
    "    if cols['city'] in cities[cols['team1']]:\n",
    "        return 1\n",
    "    \n",
    "    else:\n",
    "        return 0\n",
    "\n",
    "matches['team1_is_home']=matches[['city','team1']].apply(isHomeGround,axis=1)"
   ]
  },
  {
   "cell_type": "code",
   "execution_count": null,
   "metadata": {},
   "outputs": [],
   "source": [
    "matches.head(6)"
   ]
  },
  {
   "cell_type": "code",
   "execution_count": null,
   "metadata": {},
   "outputs": [],
   "source": [
    "head2head=matches.groupby(['team1','team2','winner']).size()\n",
    "head2head['Chennai Super Kings']"
   ]
  },
  {
   "cell_type": "code",
   "execution_count": null,
   "metadata": {},
   "outputs": [],
   "source": [
    "d=head2head['Mumbai Indians']['Chennai Super Kings']+head2head['Chennai Super Kings']['Mumbai Indians']\n",
    "d['Mumbai Indians']"
   ]
  },
  {
   "cell_type": "code",
   "execution_count": null,
   "metadata": {},
   "outputs": [],
   "source": [
    "def f(cols):\n",
    "    t1=cols[0]\n",
    "    t2=cols[1]\n",
    "    a=pd.Series()\n",
    "    if t2 in head2head[t1] and t1 in head2head[t2] :\n",
    "        if len(head2head[t1][t2])==2 and len(head2head[t2][t1])==2:\n",
    "            \n",
    "            a=head2head[t1][t2]+head2head[t2][t1]\n",
    "        elif t1 in head2head[t1][t2]:\n",
    "            a=head2head[t1][t2]\n",
    "        elif t1 in head2head[t2][t1]:\n",
    "            a=head2head[t2][t1]\n",
    "        \n",
    "    \n",
    "    elif t2 in head2head[t1]:\n",
    "        a=head2head[t1][t2]\n",
    "        \n",
    "    elif t1 in head2head[t2]:\n",
    "        a=head2head[t2][t1]\n",
    "    \n",
    "    if t1 in a:\n",
    "            \n",
    "            return a[t1]\n",
    "    else :\n",
    "            return 0\n",
    "\n",
    "def f1(cols):\n",
    "    t1=cols[0]\n",
    "    t2=cols[1]\n",
    "    a=pd.Series()\n",
    "    if t2 in head2head[t1] and t1 in head2head[t2] :\n",
    "        \n",
    "        if len(head2head[t1][t2])==2 and len(head2head[t2][t1])==2:\n",
    "            \n",
    "            a=head2head[t1][t2]+head2head[t2][t1]\n",
    "        elif t2 in head2head[t1][t2]:\n",
    "            a=head2head[t1][t2]\n",
    "        elif t2 in head2head[t2][t1]:\n",
    "            a=head2head[t2][t1]\n",
    "        \n",
    "    elif t2 in head2head[t1]:\n",
    "        a=head2head[t1][t2]\n",
    "        \n",
    "        \n",
    "    elif t1 in head2head[t2]:\n",
    "        a=head2head[t2][t1]\n",
    "        \n",
    "    if t2 in a:\n",
    "            \n",
    "        return a[t2]\n",
    "    else:\n",
    "        \n",
    "        return 0\n",
    "    \n",
    "\n",
    "        \n",
    "        \n",
    "        \n",
    "    \n",
    "        \n",
    "\n",
    "matches['head_team1']=matches[['team1','team2']].apply(f,axis=1)\n",
    "        \n",
    "matches['head_team2']=matches[['team1','team2']].apply(f1,axis=1)"
   ]
  },
  {
   "cell_type": "markdown",
   "metadata": {},
   "source": []
  },
  {
   "cell_type": "code",
   "execution_count": null,
   "metadata": {},
   "outputs": [],
   "source": [
    "\n",
    "f1(['Rising Pune Supergiants','Kings XI Punjab'])"
   ]
  },
  {
   "cell_type": "code",
   "execution_count": null,
   "metadata": {},
   "outputs": [],
   "source": [
    "matches"
   ]
  },
  {
   "cell_type": "code",
   "execution_count": null,
   "metadata": {},
   "outputs": [],
   "source": [
    "matches.head()"
   ]
  },
  {
   "cell_type": "code",
   "execution_count": null,
   "metadata": {},
   "outputs": [],
   "source": []
  },
  {
   "cell_type": "code",
   "execution_count": null,
   "metadata": {},
   "outputs": [],
   "source": [
    "matches.drop(['umpire1','umpire2','umpire3'],inplace=True,axis=1)"
   ]
  },
  {
   "cell_type": "code",
   "execution_count": null,
   "metadata": {},
   "outputs": [],
   "source": [
    "matches.info()"
   ]
  },
  {
   "cell_type": "code",
   "execution_count": null,
   "metadata": {},
   "outputs": [],
   "source": []
  },
  {
   "cell_type": "code",
   "execution_count": null,
   "metadata": {},
   "outputs": [],
   "source": [
    "matches['result'].unique()"
   ]
  },
  {
   "cell_type": "code",
   "execution_count": null,
   "metadata": {},
   "outputs": [],
   "source": [
    "matches=matches[matches.result=='normal']"
   ]
  },
  {
   "cell_type": "code",
   "execution_count": null,
   "metadata": {},
   "outputs": [],
   "source": [
    "matches.drop(['id','season','city','date','result','win_by_runs','win_by_wickets'],inplace=True,axis=1)"
   ]
  },
  {
   "cell_type": "code",
   "execution_count": null,
   "metadata": {},
   "outputs": [],
   "source": [
    "d=pd.get_dummies(matches['toss_decision'],drop_first=True)\n",
    "matches=pd.concat([matches,d],axis=1)\n",
    "matches.drop('toss_decision',axis=1,inplace=True)"
   ]
  },
  {
   "cell_type": "code",
   "execution_count": null,
   "metadata": {},
   "outputs": [],
   "source": [
    "matches.drop(['player_of_match','venue'],axis=1,inplace=True)"
   ]
  },
  {
   "cell_type": "code",
   "execution_count": null,
   "metadata": {},
   "outputs": [],
   "source": [
    "matches.head()"
   ]
  },
  {
   "cell_type": "code",
   "execution_count": null,
   "metadata": {},
   "outputs": [],
   "source": [
    "batting_team_avg=deliveries.groupby(['batting_team','match_id']).sum()[['total_runs']]\n",
    "batting_team_avg['total_runs']['Mumbai Indians'].mean()"
   ]
  },
  {
   "cell_type": "code",
   "execution_count": null,
   "metadata": {},
   "outputs": [],
   "source": [
    "bowling_team_avg=deliveries.groupby(['bowling_team','match_id']).sum()[['total_runs']]\n",
    "bowling_team_avg['total_runs']['Mumbai Indians'].mean()"
   ]
  },
  {
   "cell_type": "code",
   "execution_count": null,
   "metadata": {},
   "outputs": [],
   "source": [
    "import math\n",
    "def fun3(cols):\n",
    "    t1=cols[0]\n",
    "    t2=cols[1]\n",
    "    toss_winner=cols[2]\n",
    "    field=cols[3]\n",
    "    if toss_winner==t1 and field==1:\n",
    "        return math.ceil(bowling_team_avg['total_runs'][t1].mean())\n",
    "    elif toss_winner==t1 and field==0:\n",
    "        return math.ceil(batting_team_avg['total_runs'][t1].mean())\n",
    "    elif toss_winner==t2 and field==1:\n",
    "        return math.ceil(batting_team_avg['total_runs'][t1].mean())\n",
    "    else:\n",
    "        return math.ceil(bowling_team_avg['total_runs'][t1].mean())\n",
    "    \n",
    "\n",
    "def fun4(cols):\n",
    "    t1=cols[0]\n",
    "    t2=cols[1]\n",
    "    toss_winner=cols[2]\n",
    "    field=cols[3]\n",
    "    if toss_winner==t2 and field==1:\n",
    "        return math.ceil(bowling_team_avg['total_runs'][t2].mean())\n",
    "    elif toss_winner==t2 and field==0:\n",
    "        return math.ceil(batting_team_avg['total_runs'][t2].mean())\n",
    "    elif toss_winner==t1 and field==1:\n",
    "        return math.ceil(batting_team_avg['total_runs'][t2].mean())\n",
    "    else:\n",
    "        return math.ceil(bowling_team_avg['total_runs'][t2].mean())\n",
    "\n",
    "\n",
    "        \n",
    "matches['team1_avg_score']=matches[['team1','team2','toss_winner','field']].apply(fun3,axis=1)\n",
    "matches['team2_avg_score']=matches[['team1','team2','toss_winner','field']].apply(fun4,axis=1)      \n"
   ]
  },
  {
   "cell_type": "code",
   "execution_count": null,
   "metadata": {},
   "outputs": [],
   "source": [
    "matches.head()"
   ]
  },
  {
   "cell_type": "code",
   "execution_count": null,
   "metadata": {},
   "outputs": [],
   "source": [
    "matches['winner'].unique()"
   ]
  },
  {
   "cell_type": "code",
   "execution_count": null,
   "metadata": {},
   "outputs": [],
   "source": [
    "matches['team1']=matches['team1'].map({'Sunrisers Hyderabad':1,'Rising Pune Supergiants':2,'Kolkata Knight Riders':3,'Kings XI Punjab':4,'Royal Challengers Bangalore':5,'Mumbai Indians':6,'Delhi Daredevils':7,'Gujarat Lions':8,'Chennai Super Kings':9,'Rajasthan Royals':10,'Deccan Chargers':11,'Pune Warriors':12,'Kochi Tuskers Kerala':13})"
   ]
  },
  {
   "cell_type": "code",
   "execution_count": null,
   "metadata": {},
   "outputs": [],
   "source": [
    "matches['team2']=matches['team2'].map({'Sunrisers Hyderabad':1,'Rising Pune Supergiants':2,'Kolkata Knight Riders':3,'Kings XI Punjab':4,'Royal Challengers Bangalore':5,'Mumbai Indians':6,'Delhi Daredevils':7,'Gujarat Lions':8,'Chennai Super Kings':9,'Rajasthan Royals':10,'Deccan Chargers':11,'Pune Warriors':12,'Kochi Tuskers Kerala':13})"
   ]
  },
  {
   "cell_type": "code",
   "execution_count": null,
   "metadata": {},
   "outputs": [],
   "source": [
    "matches['toss_winner']=matches['toss_winner'].map({'Sunrisers Hyderabad':1,'Rising Pune Supergiants':2,'Kolkata Knight Riders':3,'Kings XI Punjab':4,'Royal Challengers Bangalore':5,'Mumbai Indians':6,'Delhi Daredevils':7,'Gujarat Lions':8,'Chennai Super Kings':9,'Rajasthan Royals':10,'Deccan Chargers':11,'Pune Warriors':12,'Kochi Tuskers Kerala':13})"
   ]
  },
  {
   "cell_type": "code",
   "execution_count": null,
   "metadata": {},
   "outputs": [],
   "source": [
    "matches['winner']=matches['winner'].map({'Sunrisers Hyderabad':1,'Rising Pune Supergiants':2,'Kolkata Knight Riders':3,'Kings XI Punjab':4,'Royal Challengers Bangalore':5,'Mumbai Indians':6,'Delhi Daredevils':7,'Gujarat Lions':8,'Chennai Super Kings':9,'Rajasthan Royals':10,'Deccan Chargers':11,'Pune Warriors':12,'Kochi Tuskers Kerala':13})"
   ]
  },
  {
   "cell_type": "code",
   "execution_count": null,
   "metadata": {},
   "outputs": [],
   "source": [
    "matches.corr()"
   ]
  },
  {
   "cell_type": "code",
   "execution_count": null,
   "metadata": {},
   "outputs": [],
   "source": [
    "matches.head()"
   ]
  },
  {
   "cell_type": "code",
   "execution_count": null,
   "metadata": {},
   "outputs": [],
   "source": [
    "def fun1(cols):\n",
    "    if cols[2]==cols[1]:\n",
    "        return 1\n",
    "    else:\n",
    "        return 0\n",
    "matches['team2_winner']=matches[['team1','team2','winner']].apply(fun1,axis=1)\n",
    "    "
   ]
  },
  {
   "cell_type": "code",
   "execution_count": null,
   "metadata": {},
   "outputs": [],
   "source": [
    "matches.drop(['winner','dl_applied'],axis=1,inplace=True)"
   ]
  },
  {
   "cell_type": "code",
   "execution_count": null,
   "metadata": {},
   "outputs": [],
   "source": [
    "# def fun5(cols):\n",
    "#     if cols[0]>cols[1]:\n",
    "#         return 1\n",
    "#     else:\n",
    "#         return 0\n",
    "    \n",
    "# matches['team1_advantage']=matches[['head_team1','head_team2']].apply(fun5,axis=1)"
   ]
  },
  {
   "cell_type": "code",
   "execution_count": null,
   "metadata": {},
   "outputs": [],
   "source": []
  },
  {
   "cell_type": "code",
   "execution_count": null,
   "metadata": {},
   "outputs": [],
   "source": [
    "from sklearn.model_selection import train_test_split\n",
    "X_train, X_test, y_train, y_test = train_test_split(matches.drop('team2_winner',axis=1), \n",
    "                                                    matches['team2_winner'], test_size=0.3, \n",
    "                                                    random_state=42)"
   ]
  },
  {
   "cell_type": "code",
   "execution_count": null,
   "metadata": {},
   "outputs": [],
   "source": [
    "from sklearn.linear_model import LogisticRegression\n",
    "\n",
    "# Build the Model.\n",
    "logmodel = LogisticRegression()\n",
    "\n",
    "logmodel.fit(X_train,y_train)"
   ]
  },
  {
   "cell_type": "code",
   "execution_count": null,
   "metadata": {},
   "outputs": [],
   "source": [
    "predict =  logmodel.predict(X_test)\n",
    "predict"
   ]
  },
  {
   "cell_type": "code",
   "execution_count": null,
   "metadata": {},
   "outputs": [],
   "source": [
    "from sklearn.metrics import confusion_matrix, classification_report,accuracy_score,precision_score,recall_score\n",
    "print(accuracy_score(y_test, predict))"
   ]
  },
  {
   "cell_type": "code",
   "execution_count": null,
   "metadata": {},
   "outputs": [],
   "source": [
    "precision_score(y_test, predict)"
   ]
  },
  {
   "cell_type": "code",
   "execution_count": null,
   "metadata": {},
   "outputs": [],
   "source": [
    "recall_score(y_test, predict)"
   ]
  },
  {
   "cell_type": "code",
   "execution_count": null,
   "metadata": {},
   "outputs": [],
   "source": [
    "deliveries.head()"
   ]
  },
  {
   "cell_type": "code",
   "execution_count": null,
   "metadata": {},
   "outputs": [],
   "source": [
    "matches.head()"
   ]
  },
  {
   "cell_type": "code",
   "execution_count": null,
   "metadata": {},
   "outputs": [],
   "source": []
  }
 ],
 "metadata": {
  "kernelspec": {
   "display_name": "Python 3",
   "language": "python",
   "name": "python3"
  },
  "language_info": {
   "codemirror_mode": {
    "name": "ipython",
    "version": 3
   },
   "file_extension": ".py",
   "mimetype": "text/x-python",
   "name": "python",
   "nbconvert_exporter": "python",
   "pygments_lexer": "ipython3",
   "version": "3.6.5"
  }
 },
 "nbformat": 4,
 "nbformat_minor": 2
}
